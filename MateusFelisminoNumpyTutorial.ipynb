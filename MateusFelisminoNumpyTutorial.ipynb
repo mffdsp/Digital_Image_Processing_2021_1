{
  "nbformat": 4,
  "nbformat_minor": 0,
  "metadata": {
    "colab": {
      "name": "MateusFelisminoNumpyTutorial.ipynb",
      "provenance": [],
      "collapsed_sections": []
    },
    "kernelspec": {
      "name": "python3",
      "display_name": "Python 3"
    },
    "language_info": {
      "name": "python"
    }
  },
  "cells": [
    {
      "cell_type": "markdown",
      "source": [
        "## NumPy Array"
      ],
      "metadata": {
        "id": "clk4_ZLK7PGr"
      }
    },
    {
      "cell_type": "markdown",
      "source": [
        "## Aluno: Mateus Fernando Felismino da Silva Patriota\n",
        "## dip-2021-2\n",
        "#### Numpy tutorial"
      ],
      "metadata": {
        "id": "kuxc69LxFapq"
      }
    },
    {
      "cell_type": "code",
      "execution_count": 54,
      "metadata": {
        "id": "BZZICpgI7OQs"
      },
      "outputs": [],
      "source": [
        "import numpy as np"
      ]
    },
    {
      "cell_type": "code",
      "source": [
        "# Values\n",
        "\n",
        "shape = 50\n",
        "fill_value = 3\n",
        "arr = np.ones(10, dtype=int)\n",
        "arr2d = [[2, 3], [1, 2]]"
      ],
      "metadata": {
        "id": "D9dLSJt48F6A"
      },
      "execution_count": 55,
      "outputs": []
    },
    {
      "cell_type": "code",
      "source": [
        "# Creates a full array using Numpy Library\n",
        "np.full(shape, fill_value, dtype = None, order = 'C')\n",
        "\n",
        "# Create a empy array using numpy library\n",
        "np.empty(shape, dtype = float, order = 'C') \n",
        "\n",
        "# Create a Numpy array filled with all zeros\n",
        "np.zeros(3, dtype = int)\n",
        "\n",
        "# Create a Numpy array filled with all ones\n",
        "np.ones(3, dtype = int)\n",
        "\n",
        "# Check if a Numpy Array contains a specific row\n",
        "[1] in np.ones(5).tolist()\n",
        "\n",
        "# Remove non-numeric rows\n",
        "arr[~np.isnan(arr).any(axis=0)]\n",
        "\n",
        "# Remove single-dimensional entries from the shape of an array\n",
        "np.squeeze(arr).shape\n",
        "\n",
        "# Find the number of occurrences of a sequence in a NumPy array\n",
        "repr(arr).count(\"9, 4\")\n",
        "\n",
        "# Find the most frequent value in a Array\n",
        "np.bincount(arr).argmax()\n",
        "\n",
        "# Combining a one and a two-dimensional NumPy Array\n",
        "\n",
        "num_1d = np.arange(7)  \n",
        "num_2d = np.arange(21).reshape(3,7)\n",
        "\n",
        "for a, b in np.nditer([num_1d, num_2d]):\n",
        "    # print(\"%d:%d\" % (a, b),)\n",
        "    pass\n",
        "\n",
        "# How to build an array of all combinations of two NumPy arrays\n",
        "np.array(np.meshgrid(arr, np.zeros(10))).T.reshape(-1, 2)\n",
        "\n",
        "# How to add a border around a NumPy array?\n",
        "np.pad(arr, pad_width=1, mode='constant',\n",
        "               constant_values=0)\n",
        "\n",
        "# Compare two array\n",
        "np.greater(a, b)\n",
        "\n",
        "# How to check whether specified values are present in NumPy array?\n",
        "0 in arr\n",
        "\n",
        "# How to get all 2D diagonals of a 3D NumPy array?\n",
        "np.diagonal(arr2d, axis1 = 0, axis2 = 1)\n",
        "\n",
        "# Flatten a Matrix in Python using NumPy\n",
        "arr.flatten()\n",
        "\n",
        "# Flatten into a 1d array\n",
        "arr.ravel()\n",
        "\n",
        "# Move axes of an array to new positions\n",
        "np.moveaxis(arr, 0, -1)\n",
        "\n",
        "# Interchange two axes of an array\n",
        "np.swapaxes(arr2d, 0, 1)\n",
        "\n",
        "# Fibonacci Series using Binet Formula \n",
        "a = np.arange(1, 11)\n",
        "sqrtFive = np.sqrt(5)\n",
        "alpha = (1 + sqrtFive) / 2\n",
        "beta = (1 - sqrtFive) / 2\n",
        "Fn = np.rint(((alpha ** a) - (beta ** a)) / (sqrtFive))\n",
        "# print(\"The first {} numbers of Fibonacci series are {} . \".format(len(a), Fn))\n",
        "\n",
        "# Count non-zeros values\n",
        "np.count_nonzero(arr)\n",
        "\n",
        "# Count number of elements given axis\n",
        "np.size(arr, axis=0)\n",
        "\n",
        "# Trim the leading and/or trailing zeros from a 1-D array\n",
        "np.trim_zeros(arr)\n",
        "\n",
        "# Change data type\n",
        "arr.astype(dtype=float)\n",
        "\n",
        "# Reverse a numpy array\n",
        "np.flip(arr, axis=0)\n",
        "\n",
        "arr.setflags(write=False)"
      ],
      "metadata": {
        "id": "_SG-6hXx7RJk"
      },
      "execution_count": 56,
      "outputs": []
    },
    {
      "cell_type": "code",
      "source": [
        ""
      ],
      "metadata": {
        "id": "gx1NCxyCFmp1"
      },
      "execution_count": null,
      "outputs": []
    }
  ]
}